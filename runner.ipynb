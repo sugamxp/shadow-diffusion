{
 "cells": [
  {
   "cell_type": "code",
   "execution_count": 1,
   "id": "e8ebceb8",
   "metadata": {},
   "outputs": [],
   "source": [
    "from improved_diffusion import dist_util, logger\n",
    "from improved_diffusion.image_datasets import load_data\n",
    "from improved_diffusion.resample import create_named_schedule_sampler\n",
    "from improved_diffusion.script_util import (\n",
    "    model_and_diffusion_defaults,\n",
    "    create_model_and_diffusion,\n",
    "    args_to_dict,\n",
    "    add_dict_to_argparser,\n",
    ")\n",
    "from improved_diffusion.train_util import TrainLoop"
   ]
  },
  {
   "cell_type": "code",
   "execution_count": 1,
   "id": "e8b92de7",
   "metadata": {},
   "outputs": [],
   "source": [
    "MODEL_FLAGS=\"--image_size 64 --num_channels 128 --num_res_blocks 3 --learn_sigma True\"\n",
    "DIFFUSION_FLAGS=\"--diffusion_steps 1000 --noise_schedule linear\"\n",
    "TRAIN_FLAGS=\"--lr 1e-4 --microbatch 2 --batch_size 128\""
   ]
  },
  {
   "cell_type": "code",
   "execution_count": null,
   "id": "db060ad7",
   "metadata": {},
   "outputs": [
    {
     "name": "stdout",
     "output_type": "stream",
     "text": [
      "Logging to /var/folders/q7/8_13ms0x5ksbd4fxgkvptl700000gn/T/openai-2022-12-02-20-27-42-589156\n",
      "creating model and diffusion...\n",
      "creating data loader...\n",
      "training...\n",
      "100%|███████████████████████████████████████████| 64/64 [10:12<00:00,  9.56s/it]\n",
      "------------------------\n",
      "| grad_norm | 432      |\n",
      "| loss      | 1.94     |\n",
      "| loss_q0   | 3.84     |\n",
      "| loss_q1   | 1.01     |\n",
      "| loss_q2   | 1.01     |\n",
      "| loss_q3   | 1.02     |\n",
      "| mse       | 1        |\n",
      "| mse_q0    | 1        |\n",
      "| mse_q1    | 1.01     |\n",
      "| mse_q2    | 0.999    |\n",
      "| mse_q3    | 1        |\n",
      "| samples   | 128      |\n",
      "| step      | 0        |\n",
      "| vb        | 0.939    |\n",
      "| vb_q0     | 2.84     |\n",
      "| vb_q1     | 0.00757  |\n",
      "| vb_q2     | 0.00936  |\n",
      "| vb_q3     | 0.013    |\n",
      "------------------------\n",
      "saving model 0...\n",
      "saving model 0.9999...\n",
      " 98%|██████████████████████████████████████████▎| 63/64 [10:04<00:10, 10.51s/it]"
     ]
    }
   ],
   "source": [
    "!python scripts/image_train.py --data_dir datasets $MODEL_FLAGS $DIFFUSION_FLAGS $TRAIN_FLAGS"
   ]
  },
  {
   "cell_type": "code",
   "execution_count": 6,
   "id": "f05ac8bc",
   "metadata": {},
   "outputs": [],
   "source": [
    "from mpi4py import MPI\n",
    "import torch as th"
   ]
  },
  {
   "cell_type": "code",
   "execution_count": 5,
   "id": "e9a9f832",
   "metadata": {},
   "outputs": [
    {
     "data": {
      "text/plain": [
       "'cuda:0'"
      ]
     },
     "execution_count": 5,
     "metadata": {},
     "output_type": "execute_result"
    }
   ],
   "source": [
    "f\"cuda:{MPI.COMM_WORLD.Get_rank()}\""
   ]
  },
  {
   "cell_type": "code",
   "execution_count": 9,
   "id": "76657e34",
   "metadata": {},
   "outputs": [
    {
     "name": "stdout",
     "output_type": "stream",
     "text": [
      "avail\n"
     ]
    }
   ],
   "source": [
    "if th.cuda.is_available:\n",
    "    print('avail')"
   ]
  },
  {
   "cell_type": "code",
   "execution_count": null,
   "id": "5376bda5",
   "metadata": {},
   "outputs": [],
   "source": []
  }
 ],
 "metadata": {
  "kernelspec": {
   "display_name": "Python 3 (ipykernel)",
   "language": "python",
   "name": "python3"
  },
  "language_info": {
   "codemirror_mode": {
    "name": "ipython",
    "version": 3
   },
   "file_extension": ".py",
   "mimetype": "text/x-python",
   "name": "python",
   "nbconvert_exporter": "python",
   "pygments_lexer": "ipython3",
   "version": "3.8.15"
  }
 },
 "nbformat": 4,
 "nbformat_minor": 5
}
